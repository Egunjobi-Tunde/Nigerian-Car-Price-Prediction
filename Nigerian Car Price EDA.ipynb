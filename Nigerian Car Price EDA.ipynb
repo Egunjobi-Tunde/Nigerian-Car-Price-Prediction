{
 "cells": [
  {
   "cell_type": "code",
   "execution_count": 1,
   "id": "c0b8d60a",
   "metadata": {},
   "outputs": [],
   "source": [
    "import pandas as pd\n",
    "import numpy as np\n",
    "import seaborn as sns\n",
    "import matplotlib.pyplot as plt\n",
    "import warnings\n",
    "warnings.filterwarnings(\"ignore\")\n",
    "sns.set_style(\"darkgrid\")\n",
    "sns.set_palette('RdYlGn')\n",
    "\n",
    "#model\n",
    "from sklearn.preprocessing import LabelEncoder,StandardScaler,MinMaxScaler\n",
    "from sklearn.model_selection import train_test_split\n",
    "from sklearn.metrics import mean_squared_error\n",
    "from sklearn.ensemble import RandomForestRegressor\n",
    "from xgboost import XGBRegressor\n",
    "from sklearn.linear_model import LinearRegression\n",
    "import gradio as gr\n",
    "import joblib"
   ]
  },
  {
   "cell_type": "code",
   "execution_count": 2,
   "id": "11273e4d",
   "metadata": {},
   "outputs": [],
   "source": [
    "df = pd.read_csv(\"Nigerian_Car_Prices.csv\")"
   ]
  },
  {
   "cell_type": "code",
   "execution_count": 3,
   "id": "dffa0dba",
   "metadata": {},
   "outputs": [
    {
     "data": {
      "text/html": [
       "<div>\n",
       "<style scoped>\n",
       "    .dataframe tbody tr th:only-of-type {\n",
       "        vertical-align: middle;\n",
       "    }\n",
       "\n",
       "    .dataframe tbody tr th {\n",
       "        vertical-align: top;\n",
       "    }\n",
       "\n",
       "    .dataframe thead th {\n",
       "        text-align: right;\n",
       "    }\n",
       "</style>\n",
       "<table border=\"1\" class=\"dataframe\">\n",
       "  <thead>\n",
       "    <tr style=\"text-align: right;\">\n",
       "      <th></th>\n",
       "      <th>Unnamed: 0</th>\n",
       "      <th>Make</th>\n",
       "      <th>Year of manufacture</th>\n",
       "      <th>Condition</th>\n",
       "      <th>Mileage</th>\n",
       "      <th>Engine Size</th>\n",
       "      <th>Fuel</th>\n",
       "      <th>Transmission</th>\n",
       "      <th>Price</th>\n",
       "      <th>Build</th>\n",
       "    </tr>\n",
       "  </thead>\n",
       "  <tbody>\n",
       "    <tr>\n",
       "      <th>0</th>\n",
       "      <td>0</td>\n",
       "      <td>Toyota</td>\n",
       "      <td>2007.0</td>\n",
       "      <td>Nigerian Used</td>\n",
       "      <td>166418.0</td>\n",
       "      <td>2400.0</td>\n",
       "      <td>Petrol</td>\n",
       "      <td>Automatic</td>\n",
       "      <td>3,120,000</td>\n",
       "      <td>NaN</td>\n",
       "    </tr>\n",
       "    <tr>\n",
       "      <th>1</th>\n",
       "      <td>1</td>\n",
       "      <td>Lexus</td>\n",
       "      <td>NaN</td>\n",
       "      <td>NaN</td>\n",
       "      <td>138024.0</td>\n",
       "      <td>NaN</td>\n",
       "      <td>NaN</td>\n",
       "      <td>Automatic</td>\n",
       "      <td>5,834,000</td>\n",
       "      <td>NaN</td>\n",
       "    </tr>\n",
       "    <tr>\n",
       "      <th>2</th>\n",
       "      <td>2</td>\n",
       "      <td>Mercedes-Benz</td>\n",
       "      <td>2008.0</td>\n",
       "      <td>Nigerian Used</td>\n",
       "      <td>376807.0</td>\n",
       "      <td>3000.0</td>\n",
       "      <td>Petrol</td>\n",
       "      <td>Automatic</td>\n",
       "      <td>3,640,000</td>\n",
       "      <td>NaN</td>\n",
       "    </tr>\n",
       "    <tr>\n",
       "      <th>3</th>\n",
       "      <td>3</td>\n",
       "      <td>Lexus</td>\n",
       "      <td>NaN</td>\n",
       "      <td>NaN</td>\n",
       "      <td>213362.0</td>\n",
       "      <td>NaN</td>\n",
       "      <td>NaN</td>\n",
       "      <td>Automatic</td>\n",
       "      <td>3,594,000</td>\n",
       "      <td>NaN</td>\n",
       "    </tr>\n",
       "    <tr>\n",
       "      <th>4</th>\n",
       "      <td>4</td>\n",
       "      <td>Mercedes-Benz</td>\n",
       "      <td>NaN</td>\n",
       "      <td>NaN</td>\n",
       "      <td>106199.0</td>\n",
       "      <td>NaN</td>\n",
       "      <td>NaN</td>\n",
       "      <td>Automatic</td>\n",
       "      <td>8,410,000</td>\n",
       "      <td>NaN</td>\n",
       "    </tr>\n",
       "  </tbody>\n",
       "</table>\n",
       "</div>"
      ],
      "text/plain": [
       "   Unnamed: 0           Make  Year of manufacture      Condition   Mileage  \\\n",
       "0           0         Toyota               2007.0  Nigerian Used  166418.0   \n",
       "1           1          Lexus                  NaN            NaN  138024.0   \n",
       "2           2  Mercedes-Benz               2008.0  Nigerian Used  376807.0   \n",
       "3           3          Lexus                  NaN            NaN  213362.0   \n",
       "4           4  Mercedes-Benz                  NaN            NaN  106199.0   \n",
       "\n",
       "   Engine Size    Fuel Transmission      Price Build  \n",
       "0       2400.0  Petrol    Automatic  3,120,000   NaN  \n",
       "1          NaN     NaN    Automatic  5,834,000   NaN  \n",
       "2       3000.0  Petrol    Automatic  3,640,000   NaN  \n",
       "3          NaN     NaN    Automatic  3,594,000   NaN  \n",
       "4          NaN     NaN    Automatic  8,410,000   NaN  "
      ]
     },
     "execution_count": 3,
     "metadata": {},
     "output_type": "execute_result"
    }
   ],
   "source": [
    "df.head()"
   ]
  },
  {
   "cell_type": "code",
   "execution_count": 4,
   "id": "30f57450",
   "metadata": {},
   "outputs": [
    {
     "name": "stdout",
     "output_type": "stream",
     "text": [
      "<class 'pandas.core.frame.DataFrame'>\n",
      "RangeIndex: 4095 entries, 0 to 4094\n",
      "Data columns (total 10 columns):\n",
      " #   Column               Non-Null Count  Dtype  \n",
      "---  ------               --------------  -----  \n",
      " 0   Unnamed: 0           4095 non-null   int64  \n",
      " 1   Make                 4095 non-null   object \n",
      " 2   Year of manufacture  3617 non-null   float64\n",
      " 3   Condition            3616 non-null   object \n",
      " 4   Mileage              4024 non-null   float64\n",
      " 5   Engine Size          3584 non-null   float64\n",
      " 6   Fuel                 3607 non-null   object \n",
      " 7   Transmission         4075 non-null   object \n",
      " 8   Price                4095 non-null   object \n",
      " 9   Build                1127 non-null   object \n",
      "dtypes: float64(3), int64(1), object(6)\n",
      "memory usage: 320.0+ KB\n"
     ]
    }
   ],
   "source": [
    "df.info()"
   ]
  },
  {
   "cell_type": "markdown",
   "id": "2b138a73",
   "metadata": {},
   "source": [
    "### Data Cleaning"
   ]
  },
  {
   "cell_type": "code",
   "execution_count": 5,
   "id": "fd78bcc0",
   "metadata": {},
   "outputs": [],
   "source": [
    "df = df.drop('Build', axis = 1)"
   ]
  },
  {
   "cell_type": "code",
   "execution_count": 6,
   "id": "60013f82",
   "metadata": {},
   "outputs": [],
   "source": [
    "df = df.dropna()"
   ]
  },
  {
   "cell_type": "code",
   "execution_count": 7,
   "id": "62b833d4",
   "metadata": {},
   "outputs": [
    {
     "data": {
      "text/plain": [
       "(3523, 9)"
      ]
     },
     "execution_count": 7,
     "metadata": {},
     "output_type": "execute_result"
    }
   ],
   "source": [
    "df.shape"
   ]
  },
  {
   "cell_type": "code",
   "execution_count": 8,
   "id": "e04b4172",
   "metadata": {},
   "outputs": [],
   "source": [
    "df['Price'] = df['Price'].str.replace(',', '') \n",
    "df['Price'] = df['Price'].astype(float)  # Converting the \"Price\" column to float\n",
    "\n",
    "df['Year of manufacture'] = df['Year of manufacture'].astype(int)  # Converting the \"Year of manufacture\" column to integer"
   ]
  },
  {
   "cell_type": "code",
   "execution_count": 9,
   "id": "c62daca5",
   "metadata": {},
   "outputs": [
    {
     "data": {
      "text/html": [
       "<div>\n",
       "<style scoped>\n",
       "    .dataframe tbody tr th:only-of-type {\n",
       "        vertical-align: middle;\n",
       "    }\n",
       "\n",
       "    .dataframe tbody tr th {\n",
       "        vertical-align: top;\n",
       "    }\n",
       "\n",
       "    .dataframe thead th {\n",
       "        text-align: right;\n",
       "    }\n",
       "</style>\n",
       "<table border=\"1\" class=\"dataframe\">\n",
       "  <thead>\n",
       "    <tr style=\"text-align: right;\">\n",
       "      <th></th>\n",
       "      <th>Unnamed: 0</th>\n",
       "      <th>Year of manufacture</th>\n",
       "      <th>Mileage</th>\n",
       "      <th>Engine Size</th>\n",
       "      <th>Price</th>\n",
       "    </tr>\n",
       "  </thead>\n",
       "  <tbody>\n",
       "    <tr>\n",
       "      <th>count</th>\n",
       "      <td>3523.000000</td>\n",
       "      <td>3523.000000</td>\n",
       "      <td>3.523000e+03</td>\n",
       "      <td>3523.000000</td>\n",
       "      <td>3.523000e+03</td>\n",
       "    </tr>\n",
       "    <tr>\n",
       "      <th>mean</th>\n",
       "      <td>2089.276753</td>\n",
       "      <td>2007.921090</td>\n",
       "      <td>1.901794e+05</td>\n",
       "      <td>3170.591541</td>\n",
       "      <td>4.060590e+06</td>\n",
       "    </tr>\n",
       "    <tr>\n",
       "      <th>std</th>\n",
       "      <td>1187.608368</td>\n",
       "      <td>4.303771</td>\n",
       "      <td>2.215162e+05</td>\n",
       "      <td>4641.379934</td>\n",
       "      <td>4.520306e+06</td>\n",
       "    </tr>\n",
       "    <tr>\n",
       "      <th>min</th>\n",
       "      <td>0.000000</td>\n",
       "      <td>1992.000000</td>\n",
       "      <td>1.000000e+00</td>\n",
       "      <td>3.000000</td>\n",
       "      <td>4.725000e+05</td>\n",
       "    </tr>\n",
       "    <tr>\n",
       "      <th>25%</th>\n",
       "      <td>1066.500000</td>\n",
       "      <td>2005.000000</td>\n",
       "      <td>1.070360e+05</td>\n",
       "      <td>2000.000000</td>\n",
       "      <td>1.800000e+06</td>\n",
       "    </tr>\n",
       "    <tr>\n",
       "      <th>50%</th>\n",
       "      <td>2085.000000</td>\n",
       "      <td>2008.000000</td>\n",
       "      <td>1.670060e+05</td>\n",
       "      <td>2500.000000</td>\n",
       "      <td>2.835000e+06</td>\n",
       "    </tr>\n",
       "    <tr>\n",
       "      <th>75%</th>\n",
       "      <td>3136.500000</td>\n",
       "      <td>2011.000000</td>\n",
       "      <td>2.397715e+05</td>\n",
       "      <td>3500.000000</td>\n",
       "      <td>4.500000e+06</td>\n",
       "    </tr>\n",
       "    <tr>\n",
       "      <th>max</th>\n",
       "      <td>4094.000000</td>\n",
       "      <td>2021.000000</td>\n",
       "      <td>9.976050e+06</td>\n",
       "      <td>184421.000000</td>\n",
       "      <td>5.880000e+07</td>\n",
       "    </tr>\n",
       "  </tbody>\n",
       "</table>\n",
       "</div>"
      ],
      "text/plain": [
       "        Unnamed: 0  Year of manufacture       Mileage    Engine Size  \\\n",
       "count  3523.000000          3523.000000  3.523000e+03    3523.000000   \n",
       "mean   2089.276753          2007.921090  1.901794e+05    3170.591541   \n",
       "std    1187.608368             4.303771  2.215162e+05    4641.379934   \n",
       "min       0.000000          1992.000000  1.000000e+00       3.000000   \n",
       "25%    1066.500000          2005.000000  1.070360e+05    2000.000000   \n",
       "50%    2085.000000          2008.000000  1.670060e+05    2500.000000   \n",
       "75%    3136.500000          2011.000000  2.397715e+05    3500.000000   \n",
       "max    4094.000000          2021.000000  9.976050e+06  184421.000000   \n",
       "\n",
       "              Price  \n",
       "count  3.523000e+03  \n",
       "mean   4.060590e+06  \n",
       "std    4.520306e+06  \n",
       "min    4.725000e+05  \n",
       "25%    1.800000e+06  \n",
       "50%    2.835000e+06  \n",
       "75%    4.500000e+06  \n",
       "max    5.880000e+07  "
      ]
     },
     "execution_count": 9,
     "metadata": {},
     "output_type": "execute_result"
    }
   ],
   "source": [
    "df.describe()"
   ]
  },
  {
   "cell_type": "markdown",
   "id": "910be70f",
   "metadata": {},
   "source": [
    "### EDA"
   ]
  },
  {
   "cell_type": "code",
   "execution_count": 10,
   "id": "03ca468c",
   "metadata": {},
   "outputs": [
    {
     "data": {
      "image/png": "[encoded data removed]",
      "text/plain": [
       "<Figure size 432x288 with 1 Axes>"
      ]
     },
     "metadata": {},
     "output_type": "display_data"
    }
   ],
   "source": [
    "top_10 = df['Make'].value_counts().head(10)\n",
    "\n",
    "sns.barplot(top_10.index, top_10.values)\n",
    "plt.xlabel('Make')\n",
    "plt.ylabel('Count')\n",
    "plt.title('Top 10 Makes by count')\n",
    "plt.xticks(rotation=90)\n",
    "plt.show()"
   ]
  },
  {
   "cell_type": "code",
   "execution_count": 11,
   "id": "3afd964b",
   "metadata": {},
   "outputs": [
    {
     "data": {
      "image/png": "[encoded data removed]",
      "text/plain": [
       "<Figure size 864x432 with 1 Axes>"
      ]
     },
     "metadata": {},
     "output_type": "display_data"
    }
   ],
   "source": [
    "average_price_by_make = df.groupby('Make')['Price'].mean().sort_values(ascending=False)\n",
    "\n",
    "\n",
    "top_10_make = average_price_by_make.head(10)\n",
    "\n",
    "plt.figure(figsize=(12, 6))  \n",
    "plt.bar(top_10_make.index, top_10_make.values)\n",
    "plt.xlabel('Make')\n",
    "plt.ylabel('Average Price')\n",
    "plt.title('Top 10 Makes by Average Price')\n",
    "\n",
    "plt.xticks(rotation=45)  \n",
    "plt.tight_layout() \n",
    "plt.show()"
   ]
  },
  {
   "cell_type": "code",
   "execution_count": 12,
   "id": "d6808c05",
   "metadata": {},
   "outputs": [
    {
     "data": {
      "image/png": "[encoded data removed]",
      "text/plain": [
       "<Figure size 432x288 with 1 Axes>"
      ]
     },
     "metadata": {},
     "output_type": "display_data"
    }
   ],
   "source": [
    "sns.histplot(df['Year of manufacture'], color = 'Red')\n",
    "plt.title('Year of manufacture')\n",
    "plt.show()"
   ]
  },
  {
   "cell_type": "code",
   "execution_count": 13,
   "id": "909596d0",
   "metadata": {},
   "outputs": [
    {
     "data": {
      "text/plain": [
       "Petrol      3455\n",
       "Diesel        33\n",
       "Hybrid        30\n",
       "Electric       5\n",
       "Name: Fuel, dtype: int64"
      ]
     },
     "execution_count": 13,
     "metadata": {},
     "output_type": "execute_result"
    }
   ],
   "source": [
    "df['Fuel'].value_counts()"
   ]
  },
  {
   "cell_type": "code",
   "execution_count": 14,
   "id": "6d729c42",
   "metadata": {},
   "outputs": [
    {
     "data": {
      "image/png": "[encoded data removed]",
      "text/plain": [
       "<Figure size 432x288 with 1 Axes>"
      ]
     },
     "metadata": {},
     "output_type": "display_data"
    }
   ],
   "source": [
    "fuel_counts = df['Fuel'].value_counts()\n",
    "\n",
    "fuel_counts_modified = fuel_counts.copy()\n",
    "fuel_counts_modified['Others'] = fuel_counts_modified.sum() - fuel_counts_modified['Petrol']\n",
    "fuel_counts_modified = fuel_counts_modified[['Petrol', 'Others']]\n",
    "\n",
    "plt.pie(fuel_counts_modified, labels=fuel_counts_modified.index, autopct='%1.1f%%')\n",
    "plt.title('Fuel Types')\n",
    "\n",
    "plt.axis('equal')\n",
    "\n",
    "plt.show()"
   ]
  },
  {
   "cell_type": "code",
   "execution_count": 15,
   "id": "d7554ea3",
   "metadata": {},
   "outputs": [
    {
     "data": {
      "image/png": "[encoded data removed]",
      "text/plain": [
       "<Figure size 432x288 with 1 Axes>"
      ]
     },
     "metadata": {},
     "output_type": "display_data"
    }
   ],
   "source": [
    "sns.countplot(df.Transmission)\n",
    "plt.title('Transmission')\n",
    "plt.show()"
   ]
  },
  {
   "cell_type": "code",
   "execution_count": 16,
   "id": "d5e2b789",
   "metadata": {},
   "outputs": [
    {
     "data": {
      "image/png": "[encoded data removed]",
      "text/plain": [
       "<Figure size 432x288 with 1 Axes>"
      ]
     },
     "metadata": {},
     "output_type": "display_data"
    }
   ],
   "source": [
    "condition_counts = df['Condition'].value_counts()\n",
    "fig, ax = plt.subplots()\n",
    "ax.pie(condition_counts, labels=condition_counts.index, autopct='%1.1f%%', startangle=90, wedgeprops=dict(width=0.4))\n",
    "circle = plt.Circle((0, 0), 0.3, color='white')\n",
    "ax.add_artist(circle)\n",
    "\n",
    "plt.title('Car Condition')\n",
    "plt.axis('equal')\n",
    "\n",
    "plt.show()"
   ]
  },
  {
   "cell_type": "code",
   "execution_count": 17,
   "id": "76bf6e02",
   "metadata": {},
   "outputs": [
    {
     "data": {
      "image/png": "[encoded data removed]",
      "text/plain": [
       "<Figure size 432x288 with 1 Axes>"
      ]
     },
     "metadata": {},
     "output_type": "display_data"
    }
   ],
   "source": [
    "sns.boxplot(df['Engine Size'])\n",
    "plt.title('Engine Size')\n",
    "plt.show()"
   ]
  },
  {
   "cell_type": "code",
   "execution_count": 18,
   "id": "6b23c09d",
   "metadata": {},
   "outputs": [
    {
     "data": {
      "image/png": "[encoded data removed]",
      "text/plain": [
       "<Figure size 432x288 with 1 Axes>"
      ]
     },
     "metadata": {},
     "output_type": "display_data"
    }
   ],
   "source": [
    "sns.boxplot(df['Mileage'],color = 'Red')\n",
    "plt.title('Mileage')\n",
    "plt.show()"
   ]
  },
  {
   "cell_type": "code",
   "execution_count": 19,
   "id": "dbe9f792",
   "metadata": {},
   "outputs": [
    {
     "data": {
      "image/png": "[encoded data removed]",
      "text/plain": [
       "<Figure size 432x288 with 1 Axes>"
      ]
     },
     "metadata": {},
     "output_type": "display_data"
    }
   ],
   "source": [
    "sns.histplot(df['Price'], color = 'Red')\n",
    "plt.title('Price')\n",
    "plt.show()"
   ]
  },
  {
   "cell_type": "code",
   "execution_count": 20,
   "id": "a0ab0949",
   "metadata": {},
   "outputs": [
    {
     "data": {
      "text/html": [
       "<div>\n",
       "<style scoped>\n",
       "    .dataframe tbody tr th:only-of-type {\n",
       "        vertical-align: middle;\n",
       "    }\n",
       "\n",
       "    .dataframe tbody tr th {\n",
       "        vertical-align: top;\n",
       "    }\n",
       "\n",
       "    .dataframe thead th {\n",
       "        text-align: right;\n",
       "    }\n",
       "</style>\n",
       "<table border=\"1\" class=\"dataframe\">\n",
       "  <thead>\n",
       "    <tr style=\"text-align: right;\">\n",
       "      <th></th>\n",
       "      <th>Unnamed: 0</th>\n",
       "      <th>Year of manufacture</th>\n",
       "      <th>Mileage</th>\n",
       "      <th>Engine Size</th>\n",
       "      <th>Price</th>\n",
       "    </tr>\n",
       "  </thead>\n",
       "  <tbody>\n",
       "    <tr>\n",
       "      <th>Unnamed: 0</th>\n",
       "      <td>1.000000</td>\n",
       "      <td>-0.349871</td>\n",
       "      <td>0.059657</td>\n",
       "      <td>-0.061578</td>\n",
       "      <td>-0.336367</td>\n",
       "    </tr>\n",
       "    <tr>\n",
       "      <th>Year of manufacture</th>\n",
       "      <td>-0.349871</td>\n",
       "      <td>1.000000</td>\n",
       "      <td>-0.199826</td>\n",
       "      <td>0.019179</td>\n",
       "      <td>0.563691</td>\n",
       "    </tr>\n",
       "    <tr>\n",
       "      <th>Mileage</th>\n",
       "      <td>0.059657</td>\n",
       "      <td>-0.199826</td>\n",
       "      <td>1.000000</td>\n",
       "      <td>0.001305</td>\n",
       "      <td>-0.141418</td>\n",
       "    </tr>\n",
       "    <tr>\n",
       "      <th>Engine Size</th>\n",
       "      <td>-0.061578</td>\n",
       "      <td>0.019179</td>\n",
       "      <td>0.001305</td>\n",
       "      <td>1.000000</td>\n",
       "      <td>0.046112</td>\n",
       "    </tr>\n",
       "    <tr>\n",
       "      <th>Price</th>\n",
       "      <td>-0.336367</td>\n",
       "      <td>0.563691</td>\n",
       "      <td>-0.141418</td>\n",
       "      <td>0.046112</td>\n",
       "      <td>1.000000</td>\n",
       "    </tr>\n",
       "  </tbody>\n",
       "</table>\n",
       "</div>"
      ],
      "text/plain": [
       "                     Unnamed: 0  Year of manufacture   Mileage  Engine Size  \\\n",
       "Unnamed: 0             1.000000            -0.349871  0.059657    -0.061578   \n",
       "Year of manufacture   -0.349871             1.000000 -0.199826     0.019179   \n",
       "Mileage                0.059657            -0.199826  1.000000     0.001305   \n",
       "Engine Size           -0.061578             0.019179  0.001305     1.000000   \n",
       "Price                 -0.336367             0.563691 -0.141418     0.046112   \n",
       "\n",
       "                        Price  \n",
       "Unnamed: 0          -0.336367  \n",
       "Year of manufacture  0.563691  \n",
       "Mileage             -0.141418  \n",
       "Engine Size          0.046112  \n",
       "Price                1.000000  "
      ]
     },
     "execution_count": 20,
     "metadata": {},
     "output_type": "execute_result"
    }
   ],
   "source": [
    "df.corr()"
   ]
  },
  {
   "cell_type": "markdown",
   "id": "90e49305",
   "metadata": {},
   "source": [
    "### Feature Engineering"
   ]
  },
  {
   "cell_type": "code",
   "execution_count": 30,
   "id": "544f2b81",
   "metadata": {},
   "outputs": [
    {
     "data": {
      "text/plain": [
       "['scaler.joblib']"
      ]
     },
     "execution_count": 30,
     "metadata": {},
     "output_type": "execute_result"
    }
   ],
   "source": [
    "X = df.drop(['Unnamed: 0', 'Price'], axis = 1)\n",
    "y = df.Price\n",
    "\n",
    "make_counts = X['Make'].value_counts()\n",
    "\n",
    "\n",
    "# Get the values to replace with 'Others'\n",
    "make_others = make_counts[make_counts < 14].index.tolist()\n",
    "\n",
    "# Replace values with 'Others'\n",
    "X['Make'] = X['Make'].apply(lambda x: 'Others' if x in make_others else x)\n",
    "\n",
    "X_train,X_test, y_train,y_test = train_test_split(X,y, test_size = 0.2, random_state=10)\n",
    "\n",
    "\n",
    "# Initializing the encoders and scaler for each column\n",
    "make_encoder = LabelEncoder()\n",
    "fuel_encoder = LabelEncoder()\n",
    "transmission_encoder = LabelEncoder()\n",
    "condition_encoder = LabelEncoder()\n",
    "scaler = MinMaxScaler()\n",
    "\n",
    "# Encoding and scaling each column individually\n",
    "X_train['Make'] = make_encoder.fit_transform(X_train['Make'])\n",
    "X_test['Make'] = make_encoder.transform(X_test['Make'])\n",
    "\n",
    "X_train['Fuel'] = fuel_encoder.fit_transform(X_train['Fuel'])\n",
    "X_test['Fuel'] = fuel_encoder.transform(X_test['Fuel'])\n",
    "\n",
    "X_train['Transmission'] = transmission_encoder.fit_transform(X_train['Transmission'])\n",
    "X_test['Transmission'] = transmission_encoder.transform(X_test['Transmission'])\n",
    "\n",
    "X_train['Condition'] = condition_encoder.fit_transform(X_train['Condition'])\n",
    "X_test['Condition'] = condition_encoder.transform(X_test['Condition'])\n",
    "\n",
    "X_train[['Year of manufacture', 'Mileage', 'Engine Size']] = scaler.fit_transform(X_train[['Year of manufacture', 'Mileage', 'Engine Size']])\n",
    "X_test[['Year of manufacture', 'Mileage', 'Engine Size']] = scaler.transform(X_test[['Year of manufacture', 'Mileage', 'Engine Size']])\n",
    "\n",
    "# Save the encoders and scaler\n",
    "joblib.dump(make_encoder, \"make_encoder.joblib\",compress=3)\n",
    "joblib.dump(fuel_encoder, \"fuel_encoder.joblib\",compress=3)\n",
    "joblib.dump(transmission_encoder, \"transmission_encoder.joblib\",compress=3)\n",
    "joblib.dump(condition_encoder, \"condition_encoder.joblib\",compress=3)\n",
    "joblib.dump(scaler, \"scaler.joblib\",compress=3)"
   ]
  },
  {
   "cell_type": "markdown",
   "id": "307eab41",
   "metadata": {},
   "source": [
    "#### Needed Model"
   ]
  },
  {
   "cell_type": "code",
   "execution_count": 22,
   "id": "23aaa0f7",
   "metadata": {},
   "outputs": [
    {
     "name": "stdout",
     "output_type": "stream",
     "text": [
      "Random Forest RMSE: 1888772.25\n",
      "XGBoost RMSE: 1780817.41\n",
      "Linear Regression RMSE: 2613288.21\n"
     ]
    }
   ],
   "source": [
    "# Initialize the models\n",
    "rf_model = RandomForestRegressor(random_state=42)\n",
    "xgb_model = XGBRegressor(random_state=42)\n",
    "lr_model = LinearRegression()\n",
    "\n",
    "# Fit the models on the training data\n",
    "rf_model.fit(X_train, y_train)\n",
    "xgb_model.fit(X_train, y_train)\n",
    "lr_model.fit(X_train, y_train)\n",
    "\n",
    "# Make predictions on the testing data\n",
    "rf_preds = rf_model.predict(X_test)\n",
    "xgb_preds = xgb_model.predict(X_test)\n",
    "lr_preds = lr_model.predict(X_test)\n",
    "\n",
    "# Evaluate the models using root mean squared error (RMSE)\n",
    "rf_rmse = mean_squared_error(y_test, rf_preds, squared=False)\n",
    "xgb_rmse = mean_squared_error(y_test, xgb_preds, squared=False)\n",
    "lr_rmse = mean_squared_error(y_test, lr_preds, squared=False)\n",
    "\n",
    "# Print the RMSE scores\n",
    "print(f\"Random Forest RMSE: {rf_rmse:.2f}\")\n",
    "print(f\"XGBoost RMSE: {xgb_rmse:.2f}\")\n",
    "print(f\"Linear Regression RMSE: {lr_rmse:.2f}\")"
   ]
  },
  {
   "cell_type": "code",
   "execution_count": 31,
   "id": "f9dfda36",
   "metadata": {},
   "outputs": [
    {
     "data": {
      "text/plain": [
       "['car_model.joblib']"
      ]
     },
     "execution_count": 31,
     "metadata": {},
     "output_type": "execute_result"
    }
   ],
   "source": [
    "joblib.dump(xgb_model, \"car_model.joblib\", compress=3)"
   ]
  },
  {
   "cell_type": "markdown",
   "id": "faeff4c7",
   "metadata": {},
   "source": [
    "**Note: Many Models have been built, but only the needed ones were kept**"
   ]
  },
  {
   "cell_type": "code",
   "execution_count": 23,
   "id": "1b6ca9be",
   "metadata": {},
   "outputs": [
    {
     "data": {
      "image/png": "[encoded data removed]",
      "text/plain": [
       "<Figure size 432x288 with 1 Axes>"
      ]
     },
     "metadata": {},
     "output_type": "display_data"
    }
   ],
   "source": [
    "sns.histplot(xgb_preds, label='prediction',color='red')\n",
    "sns.histplot(y_test, label='actual price', color = 'blue')\n",
    "plt.title('Prediction Vs Actual')\n",
    "plt.legend()\n",
    "plt.show()"
   ]
  },
  {
   "cell_type": "markdown",
   "id": "e921f047",
   "metadata": {},
   "source": [
    "### Prediction"
   ]
  },
  {
   "cell_type": "code",
   "execution_count": 24,
   "id": "e23ac604",
   "metadata": {},
   "outputs": [],
   "source": [
    "import joblib\n",
    "def predict_car_price(make, year, condition, mileage, engine_size, fuel, transmission):\n",
    "    # Load the encoders and scaler\n",
    "    make_encoder = joblib.load(\"make_encoder.joblib\")\n",
    "    fuel_encoder = joblib.load(\"fuel_encoder.joblib\")\n",
    "    transmission_encoder = joblib.load(\"transmission_encoder.joblib\")\n",
    "    condition_encoder = joblib.load(\"condition_encoder.joblib\")\n",
    "    scaler = joblib.load(\"scaler.joblib\")\n",
    "\n",
    "    # Preprocess the input\n",
    "    make_encoded = make_encoder.transform([make])[0]\n",
    "    numerical_value = scaler.transform([[year,mileage, engine_size]])\n",
    "    year_scaled = numerical_value[0][0]\n",
    "    mileage_scaled = numerical_value[0][1]\n",
    "    engine_size_scaled = numerical_value[0][2]\n",
    "    fuel_encoded = fuel_encoder.transform([fuel])[0]\n",
    "    condition_encoded = condition_encoder.transform([condition])[0]\n",
    "    transmission_encoded = transmission_encoder.transform([transmission])[0]\n",
    "\n",
    "    input_data = [[make_encoded, year_scaled, condition_encoded, mileage_scaled, engine_size_scaled, fuel_encoded, transmission_encoded]]\n",
    "    input_df = pd.DataFrame(input_data, columns=['Make', 'Year of manufacture', 'Condition', 'Mileage', 'Engine Size', 'Fuel', 'Transmission'])\n",
    "\n",
    "    # Make predictions\n",
    "    predicted_price = xgb_model.predict(input_df)\n",
    "    return round(predicted_price[0], 2)"
   ]
  },
  {
   "cell_type": "code",
   "execution_count": 25,
   "id": "07692f2e",
   "metadata": {},
   "outputs": [
    {
     "data": {
      "text/plain": [
       "3857971.8"
      ]
     },
     "execution_count": 25,
     "metadata": {},
     "output_type": "execute_result"
    }
   ],
   "source": [
    "predict_car_price('Toyota', 2010,'Nigerian Used', 3000, 2300, 'Petrol', 'Automatic')"
   ]
  },
  {
   "cell_type": "markdown",
   "id": "fce6ae74",
   "metadata": {},
   "source": [
    "### Gradio Interface"
   ]
  },
  {
   "cell_type": "code",
   "execution_count": 32,
   "id": "e33e3abd",
   "metadata": {},
   "outputs": [
    {
     "name": "stdout",
     "output_type": "stream",
     "text": [
      "Running on local URL:  http://127.0.0.1:7864\n",
      "\n",
      "To create a public link, set `share=True` in `launch()`.\n"
     ]
    },
    {
     "data": {
      "text/html": [
       "<div><iframe src=\"http://127.0.0.1:7864/\" width=\"100%\" height=\"500\" allow=\"autoplay; camera; microphone; clipboard-read; clipboard-write;\" frameborder=\"0\" allowfullscreen></iframe></div>"
      ],
      "text/plain": [
       "<IPython.core.display.HTML object>"
      ]
     },
     "metadata": {},
     "output_type": "display_data"
    },
    {
     "data": {
      "text/plain": []
     },
     "execution_count": 32,
     "metadata": {},
     "output_type": "execute_result"
    }
   ],
   "source": [
    "import gradio as gr\n",
    "import joblib\n",
    "def predict_car_price(make, year, condition, mileage, engine_size, fuel, transmission):\n",
    "    # Load the encoders and scaler\n",
    "    make_encoder = joblib.load(\"make_encoder.joblib\")\n",
    "    fuel_encoder = joblib.load(\"fuel_encoder.joblib\")\n",
    "    transmission_encoder = joblib.load(\"transmission_encoder.joblib\")\n",
    "    condition_encoder = joblib.load(\"condition_encoder.joblib\")\n",
    "    scaler = joblib.load(\"scaler.joblib\")\n",
    "\n",
    "    make_encoded = make_encoder.transform([make])[0]\n",
    "    numerical_value = scaler.transform([[year,mileage, engine_size]])\n",
    "    year_scaled = numerical_value[0][0]\n",
    "    mileage_scaled = numerical_value[0][1]\n",
    "    engine_size_scaled = numerical_value[0][2]\n",
    "    fuel_encoded = fuel_encoder.transform([fuel])[0]\n",
    "    condition_encoded = condition_encoder.transform([condition])[0]\n",
    "    transmission_encoded = transmission_encoder.transform([transmission])[0]\n",
    "\n",
    "    input_data = [[make_encoded, year_scaled, condition_encoded, mileage_scaled, engine_size_scaled, fuel_encoded, transmission_encoded]]\n",
    "    input_df = pd.DataFrame(input_data, columns=['Make', 'Year of manufacture', 'Condition', 'Mileage', 'Engine Size', 'Fuel', 'Transmission'])\n",
    "\n",
    "    # Make predictions\n",
    "    predicted_price = xgb_model.predict(input_df)\n",
    "    return round(predicted_price[0], 2)\n",
    "make_dropdown = gr.inputs.Dropdown(['Acura', 'Audi', 'BMW', 'Chevrolet', 'Dodge', 'Ford', 'Honda',\n",
    "       'Hyundai', 'Infiniti', 'Kia', 'Land Rover', 'Lexus', 'Mazda',\n",
    "       'Mercedes-Benz', 'Mitsubishi', 'Nissan', 'Others', 'Peugeot',\n",
    "       'Pontiac', 'Toyota', 'Volkswagen', 'Volvo'], label=\"Make\")\n",
    "condition_dropdown = gr.inputs.Dropdown(['Foreign Used', 'Nigerian Used','Brand New'], label=\"Condition\")\n",
    "fuel_dropdown = gr.inputs.Dropdown([\"Petrol\", \"Diesel\", \"Electric\"], label=\"Fuel\")\n",
    "transmission_dropdown = gr.inputs.Dropdown([\"Manual\", \"Automatic\", \"AMT\"], label=\"Transmission\")\n",
    "\n",
    "iface = gr.Interface(\n",
    "    fn=predict_car_price,\n",
    "    inputs=[make_dropdown, \"number\", condition_dropdown, \"number\", \"number\", fuel_dropdown, transmission_dropdown],\n",
    "    outputs=\"number\",\n",
    "    title=\"Car Price Prediction\",\n",
    "    description=\"Predict the price of a car based on its details, in Naira\",\n",
    "    examples=[\n",
    "        [\"Toyota\", 2010, \"Nigerian Used\", 80000, 2.0, \"Petrol\", \"Automatic\"],\n",
    "        [\"Mercedes-Benz\", 2015, \"Foreign Used\", 50000, 1000, \"Diesel\", \"AMT\"],\n",
    "    ],css=\".gradio-container {background-color: lightgreen}\"\n",
    ")\n",
    "\n",
    "iface.launch()\n"
   ]
  },
  {
   "cell_type": "code",
   "execution_count": null,
   "id": "135354f8",
   "metadata": {},
   "outputs": [],
   "source": []
  }
 ],
 "metadata": {
  "kernelspec": {
   "display_name": "Python 3",
   "language": "python",
   "name": "python3"
  },
  "language_info": {
   "codemirror_mode": {
    "name": "ipython",
    "version": 3
   },
   "file_extension": ".py",
   "mimetype": "text/x-python",
   "name": "python",
   "nbconvert_exporter": "python",
   "pygments_lexer": "ipython3",
   "version": "3.8.8"
  }
 },
 "nbformat": 4,
 "nbformat_minor": 5
}
